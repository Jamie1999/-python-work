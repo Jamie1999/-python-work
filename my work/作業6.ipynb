{
 "cells": [
  {
   "cell_type": "markdown",
   "metadata": {},
   "source": [
    "## 做一隻貓咪"
   ]
  },
  {
   "cell_type": "code",
   "execution_count": 1,
   "metadata": {},
   "outputs": [],
   "source": [
    "%matplotlib inline\n",
    "import numpy as np\n",
    "import matplotlib.pyplot as plt\n",
    "import pandas as pd"
   ]
  },
  {
   "cell_type": "code",
   "execution_count": 48,
   "metadata": {},
   "outputs": [
    {
     "name": "stdout",
     "output_type": "stream",
     "text": [
      "              ▲                                ▲                 \n",
      "             ▲▲▲                              ▲▲▲                \n",
      "            ▲▲▲▲▲                            ▲▲▲▲▲               \n",
      "           ▲▲▲▲▲▲▲                          ▲▲▲▲▲▲▲              \n",
      "           ■■■■■■■■■■■■■■■■■■■■■■■■■■■■■■■■■■■■■■■■\n",
      "           ■■■■■■■■■■■■■■■■■■■■■■■■■■■■■■■■■■■■■■■■\n",
      "           ■■■■■■■■■■■■■■■■■■■■■■■■■■■■■■■■■■■■■■■■\n",
      "           ■■■■■■■■■■■■■■■■■■■■■■■■■■■■■■■■■■■■■■■■\n",
      "           ■■■■■■■■■■■■■■■■■■■■■■■■■■■■■■■■■■■■■■■■\n",
      "           ■■■■■■■■■■■■■■■■■■■■■■■■■■■■■■■■■■■■■■■■\n",
      "           ■■■■■■■■■■■■■■■■■■■■■■■■■■■■■■■■■■■■■■■■\n",
      "           ■■■■■■■■■■■■■■■■■■■■■■■■■■■■■■■■■■■■■■■■\n",
      "           ■■■■■■■■■■■■■■■■■■■■■■■■■■■■■■■■■■■■■■■■\n",
      "           ■■■■■■■■■■■■■■■■■■■■■■■■■■■■■■■■■■■■■■■■\n",
      "                              ■                              \n",
      "                             ■■■                             \n",
      "                            ■■■■■                            \n",
      "                           ■■■■■■■                           \n",
      "                          ■■■■■■■■■                          \n",
      "                         ■■■■■■■■■■■                         \n",
      "                        ■■■■■■■■■■■■■                        \n",
      "                       ■■■■■■■■■■■■■■■                       \n",
      "                      ■■■■■■■■■■■■■■■■■                      \n",
      "                     ■■■■■■■■■■■■■■■■■■■                     \n",
      "                    ■■■■■■■■■■■■■■■■■■■■■                    \n",
      "                   ■■■■■■■■■■■■■■■■■■■■■■■                   \n",
      "                  ■■■■■■■■■■■■■■■■■■■■■■■■■                  \n",
      "                 ■■■■■■■■■■■■■■■■■■■■■■■■■■■                 \n",
      "                ■■■■■■■■■■■■■■■■■■■■■■■■■■■■■                \n",
      "               ■■■■■■■■■■■■■■■■■■■■■■■■■■■■■■■               \n",
      "              ■■■■■■■■■■■■■■■■■■■■■■■■■■■■■■■■■              \n",
      "             ■■■■■■■■■■■■■■■■■■■■■■■■■■■■■■■■■■■             \n",
      "            ■■■■■■■■■■■■■■■■■■■■■■■■■■■■■■■■■■■■■            \n",
      "           ■■■■■■■■■■■■■■■■■■■■■■■■■■■■■■■■■■■■■■■           \n"
     ]
    }
   ],
   "source": [
    "spam=4\n",
    "ham=10\n",
    "egg=20\n",
    "for i in range(spam):\n",
    "    ear=\"▲\"*(2*i+1)\n",
    "    print(f\"{ear:^30s}\"+f\"{ear:^35s}\")\n",
    "face=\" \"*11+\"■\"*40\n",
    "face1=(f\"{face:^50s}\")\n",
    "for i in range(ham):\n",
    "    print(face1)\n",
    "for i in range(egg):\n",
    "    bb=\"■\"*(2*i+1)\n",
    "    body=(f\"{bb:^61s}\")\n",
    "    print(body)"
   ]
  },
  {
   "cell_type": "code",
   "execution_count": null,
   "metadata": {},
   "outputs": [],
   "source": []
  }
 ],
 "metadata": {
  "kernelspec": {
   "display_name": "Python 3",
   "language": "python",
   "name": "python3"
  },
  "language_info": {
   "codemirror_mode": {
    "name": "ipython",
    "version": 3
   },
   "file_extension": ".py",
   "mimetype": "text/x-python",
   "name": "python",
   "nbconvert_exporter": "python",
   "pygments_lexer": "ipython3",
   "version": "3.7.3"
  }
 },
 "nbformat": 4,
 "nbformat_minor": 2
}
