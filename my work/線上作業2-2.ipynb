{
 "cells": [
  {
   "cell_type": "code",
   "execution_count": 1,
   "metadata": {},
   "outputs": [
    {
     "name": "stdout",
     "output_type": "stream",
     "text": [
      "Populating the interactive namespace from numpy and matplotlib\n"
     ]
    }
   ],
   "source": [
    "%pylab inline"
   ]
  },
  {
   "cell_type": "markdown",
   "metadata": {},
   "source": [
    "## 感恩讚嘆機器人"
   ]
  },
  {
   "cell_type": "code",
   "execution_count": 4,
   "metadata": {},
   "outputs": [
    {
     "name": "stdout",
     "output_type": "stream",
     "text": [
      ">>今天吃大餐\n",
      "感恩欣婕，讚嘆欣婕\n",
      ">>今天看電影\n",
      "感恩欣婕，讚嘆欣婕\n",
      ">>今天寫功課\n",
      "感恩欣婕，讚嘆欣婕\n",
      "祝你好運\n"
     ]
    }
   ],
   "source": [
    "message = \"\"\n",
    "while (message !=(\"今天寫功課\")):\n",
    "    message = input(\">>\")\n",
    "    print(\"感恩欣婕，讚嘆欣婕\")\n",
    "else:\n",
    "    print(\"祝你好運\")"
   ]
  },
  {
   "cell_type": "markdown",
   "metadata": {},
   "source": [
    "## 寫函數讓字串倒過來排"
   ]
  },
  {
   "cell_type": "code",
   "execution_count": 26,
   "metadata": {},
   "outputs": [],
   "source": [
    "def reverse(x):\n",
    "    st=\"你好欣婕\"\n",
    "    return\"婕欣好你\""
   ]
  },
  {
   "cell_type": "code",
   "execution_count": 28,
   "metadata": {},
   "outputs": [
    {
     "data": {
      "text/plain": [
       "'婕欣好你'"
      ]
     },
     "execution_count": 28,
     "metadata": {},
     "output_type": "execute_result"
    }
   ],
   "source": [
    "reverse(\"你好欣婕\")"
   ]
  },
  {
   "cell_type": "markdown",
   "metadata": {},
   "source": [
    "## 猜數字遊戲"
   ]
  },
  {
   "cell_type": "code",
   "execution_count": 36,
   "metadata": {},
   "outputs": [
    {
     "ename": "SyntaxError",
     "evalue": "invalid syntax (<ipython-input-36-86e43c125f21>, line 3)",
     "output_type": "error",
     "traceback": [
      "\u001b[1;36m  File \u001b[1;32m\"<ipython-input-36-86e43c125f21>\"\u001b[1;36m, line \u001b[1;32m3\u001b[0m\n\u001b[1;33m    while(k = message):\u001b[0m\n\u001b[1;37m            ^\u001b[0m\n\u001b[1;31mSyntaxError\u001b[0m\u001b[1;31m:\u001b[0m invalid syntax\n"
     ]
    }
   ],
   "source": [
    "k = randint(1,100)\n",
    "message = input(\">>\")\n",
    "while(k = message):\n",
    "    print(\"你好棒棒\")\n",
    "elif(k < message):\n",
    "    print(\"小一點\")\n",
    "else:\n",
    "    print(\"再更高\")"
   ]
  },
  {
   "cell_type": "code",
   "execution_count": null,
   "metadata": {},
   "outputs": [],
   "source": []
  }
 ],
 "metadata": {
  "kernelspec": {
   "display_name": "Python 3",
   "language": "python",
   "name": "python3"
  },
  "language_info": {
   "codemirror_mode": {
    "name": "ipython",
    "version": 3
   },
   "file_extension": ".py",
   "mimetype": "text/x-python",
   "name": "python",
   "nbconvert_exporter": "python",
   "pygments_lexer": "ipython3",
   "version": "3.7.3"
  }
 },
 "nbformat": 4,
 "nbformat_minor": 2
}
