{
 "cells": [
  {
   "cell_type": "code",
   "execution_count": 4,
   "metadata": {},
   "outputs": [],
   "source": [
    "%matplotlib inline\n",
    "\n",
    "import numpy as np\n",
    "import matplotlib.pyplot as plt\n",
    "import pandas as pd"
   ]
  },
  {
   "cell_type": "code",
   "execution_count": 7,
   "metadata": {},
   "outputs": [
    {
     "name": "stdout",
     "output_type": "stream",
     "text": [
      "西元出生年1999\n",
      "你屬兔20.0歲\n"
     ]
    }
   ],
   "source": [
    "year=float(input(\"西元出生年\"))\n",
    "x=(year-1911)\n",
    "if x%12==0:\n",
    "    print(\"你屬豬\"+str(2019-year)+\"歲\")\n",
    "elif x%12==1:\n",
    "    print(\"你屬鼠\"+str(2019-year)+\"歲\")\n",
    "elif x%12==2:\n",
    "    print(\"你屬牛\"+str(2019-year)+\"歲\")\n",
    "elif x%12==3:\n",
    "    print(\"你屬虎\"+str(2019-year)+\"歲\")\n",
    "elif x%12==4:\n",
    "    print(\"你屬兔\"+str(2019-year)+\"歲\")\n",
    "elif x%12==5:\n",
    "    print(\"你屬龍\"+str(2019-year)+\"歲\")\n",
    "elif x%12==6:\n",
    "    print(\"你屬蛇\"+str(2019-year)+\"歲\")\n",
    "elif x%12==7:\n",
    "    print(\"你屬馬\"+str(2019-year)+\"歲\")\n",
    "elif x%12==8:\n",
    "    print(\"你屬羊\"+str(2019-year)+\"歲\")\n",
    "elif x%12==9:\n",
    "    print(\"你屬猴\"+str(2019-year)+\"歲\")\n",
    "elif x%12==10:\n",
    "    print(\"你屬雞\"+str(2019-year)+\"歲\")\n",
    "else:\n",
    "    print(\"你屬狗\"+str(2019-year)+\"歲\")"
   ]
  },
  {
   "cell_type": "code",
   "execution_count": null,
   "metadata": {},
   "outputs": [],
   "source": []
  }
 ],
 "metadata": {
  "kernelspec": {
   "display_name": "Python 3",
   "language": "python",
   "name": "python3"
  },
  "language_info": {
   "codemirror_mode": {
    "name": "ipython",
    "version": 3
   },
   "file_extension": ".py",
   "mimetype": "text/x-python",
   "name": "python",
   "nbconvert_exporter": "python",
   "pygments_lexer": "ipython3",
   "version": "3.7.3"
  }
 },
 "nbformat": 4,
 "nbformat_minor": 2
}
