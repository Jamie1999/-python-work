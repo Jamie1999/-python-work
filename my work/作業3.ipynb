{
 "cells": [
  {
   "cell_type": "code",
   "execution_count": 1,
   "metadata": {},
   "outputs": [],
   "source": [
    "%matplotlib inline\n",
    "import numpy as np\n",
    "import matplotlib.pyplot as plt\n",
    "import pandas as pd"
   ]
  },
  {
   "cell_type": "code",
   "execution_count": 2,
   "metadata": {},
   "outputs": [],
   "source": [
    "from ipywidgets import interact"
   ]
  },
  {
   "cell_type": "code",
   "execution_count": 3,
   "metadata": {},
   "outputs": [
    {
     "data": {
      "application/vnd.jupyter.widget-view+json": {
       "model_id": "36b6bcd03a6c474eb1e8e238204253dc",
       "version_major": 2,
       "version_minor": 0
      },
      "text/plain": [
       "interactive(children=(IntSlider(value=1, description='n', max=1, min=-21), Output()), _dom_classes=('widget-in…"
      ]
     },
     "metadata": {},
     "output_type": "display_data"
    },
    {
     "name": "stdout",
     "output_type": "stream",
     "text": [
      "你...你要做什麼？\n",
      ">>女朋友\n",
      "我...我是男的！\n"
     ]
    }
   ],
   "source": [
    "def move(n=1):\n",
    "    print(\" \"*(n+20)+\"(Σ(*ﾟдﾟﾉ)ﾉ)\"+\" \"*(n+21)+\"<---(›´ω`‹ )\")\n",
    "interact(move,n=(-21,1))\n",
    "print(\"你...你要做什麼？\")\n",
    "message = input(\">>\")\n",
    "if(\"跟我在一起\" in message):\n",
    "    print(\"可是我們人機不同世界！\")\n",
    "elif(\"我已經喜歡你好久\" in message):\n",
    "    print(\"其實我也對你有好感\")\n",
    "elif(\"女朋友\" in message):\n",
    "    print(\"我...我是男的！\")"
   ]
  },
  {
   "cell_type": "code",
   "execution_count": 9,
   "metadata": {
    "scrolled": true
   },
   "outputs": [
    {
     "name": "stdout",
     "output_type": "stream",
     "text": [
      "阿公阿嬤打牌時間與分紅獎金之間的關係\n",
      "打牌時間(分鐘)555\n",
      "你可能拿不到，因為輸得多就玩得久\n"
     ]
    }
   ],
   "source": [
    "print(\"阿公阿嬤打牌時間與分紅獎金之間的關係\")\n",
    "time=input(\"打牌時間(分鐘)\")\n",
    "if (0<int(time)<60):\n",
    "    t=float(time)*3-75\n",
    "    print(\"你拿到的分紅獎金可能為\"+str(t)+\"元\")\n",
    "if (60<int(time)<120):\n",
    "    t=float(time)*3-143\n",
    "    print(\"你拿到的分紅獎金可能為\"+str(t)+\"元\")\n",
    "if (120<int(time)<180):\n",
    "    t=float(time)*3-221\n",
    "    print(\"你拿到的分紅獎金可能為\"+str(t)+\"元\")\n",
    "if (180<int(time)<240):\n",
    "    t=float(time)*3-366\n",
    "    print(\"你拿到的分紅獎金可能為\"+str(t)+\"元\")\n",
    "if (240<int(time)<300):\n",
    "    t=float(time)*3-494\n",
    "    print(\"你拿到的分紅獎金可能為\"+str(t)+\"元\")\n",
    "if (300<int(time)):\n",
    "    print(\"你可能拿不到，因為輸得多就玩得久\")"
   ]
  },
  {
   "cell_type": "code",
   "execution_count": 5,
   "metadata": {},
   "outputs": [],
   "source": [
    "def f(x):\n",
    "    print(x)"
   ]
  },
  {
   "cell_type": "code",
   "execution_count": 16,
   "metadata": {},
   "outputs": [
    {
     "name": "stdout",
     "output_type": "stream",
     "text": [
      "從桃園藝文到政大車資\n"
     ]
    },
    {
     "data": {
      "application/vnd.jupyter.widget-view+json": {
       "model_id": "6ddbfa1b450344d09a5f2dac8010f348",
       "version_major": 2,
       "version_minor": 0
      },
      "text/plain": [
       "interactive(children=(Dropdown(description='x', options={'9005': 80, '9023': 50, '1662轉捷運': 60}, value=80), Ou…"
      ]
     },
     "metadata": {},
     "output_type": "display_data"
    },
    {
     "data": {
      "application/vnd.jupyter.widget-view+json": {
       "model_id": "dc7fbb22f1e84289836e4b133519d83d",
       "version_major": 2,
       "version_minor": 0
      },
      "text/plain": [
       "interactive(children=(Dropdown(description='x', options={'綠1': 15, '市政府捷運': 20, '劍潭捷運': 42, '1662捷運': 30}, val…"
      ]
     },
     "metadata": {},
     "output_type": "display_data"
    },
    {
     "name": "stdout",
     "output_type": "stream",
     "text": [
      "<function f at 0x0C751108><function f at 0x0C751108>\n"
     ]
    }
   ],
   "source": [
    "print(\"從桃園藝文到政大車資\")\n",
    "a=interact(f,x={\"9005\":80,\"9023\":50,\"1662轉捷運\":60})\n",
    "b=interact(f,x={\"綠1\":15,\"市政府捷運\":20,\"劍潭捷運\":42,\"1662捷運\":30})\n",
    "print(str(a)+str(b))"
   ]
  },
  {
   "cell_type": "code",
   "execution_count": 7,
   "metadata": {},
   "outputs": [
    {
     "name": "stdout",
     "output_type": "stream",
     "text": [
      "醬料:三杯\n",
      "主要食材:雞肉\n",
      "您需要｢醬油、酒、麻油」\n",
      "以及雞肉\n"
     ]
    }
   ],
   "source": [
    "qu=input(\"醬料:\")+input(\"主要食材:\")\n",
    "if(\"三杯\" in qu):\n",
    "    print(\"您需要｢醬油、酒、麻油」\")\n",
    "if(\"糖醋\" in qu):\n",
    "    print(\"您需要｢糖、番茄醬」\")\n",
    "if(\"蔥爆\" in qu):\n",
    "    print(\"您需要｢醬油、蔥、酒」\")\n",
    "if(\"豬肉\" in qu):\n",
    "    print(\"以及豬肉\")\n",
    "if(\"牛肉\" in qu):\n",
    "    print(\"以及牛肉\")\n",
    "if(\"雞肉\" in qu):\n",
    "    print(\"以及雞肉\")\n"
   ]
  },
  {
   "cell_type": "code",
   "execution_count": 10,
   "metadata": {},
   "outputs": [
    {
     "name": "stdout",
     "output_type": "stream",
     "text": [
      "糖醋 豬肉\n"
     ]
    }
   ],
   "source": [
    "sauce=['三杯','糖醋','蔥爆']\n",
    "material=['雞肉','豬肉','牛肉']\n",
    "print(sauce[np.random.randint(0,3)],material[np.random.randint(0,3)])"
   ]
  },
  {
   "cell_type": "code",
   "execution_count": null,
   "metadata": {},
   "outputs": [],
   "source": []
  },
  {
   "cell_type": "code",
   "execution_count": null,
   "metadata": {},
   "outputs": [],
   "source": []
  }
 ],
 "metadata": {
  "kernelspec": {
   "display_name": "Python 3",
   "language": "python",
   "name": "python3"
  },
  "language_info": {
   "codemirror_mode": {
    "name": "ipython",
    "version": 3
   },
   "file_extension": ".py",
   "mimetype": "text/x-python",
   "name": "python",
   "nbconvert_exporter": "python",
   "pygments_lexer": "ipython3",
   "version": "3.7.3"
  }
 },
 "nbformat": 4,
 "nbformat_minor": 2
}
