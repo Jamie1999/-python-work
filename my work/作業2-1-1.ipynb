{
 "cells": [
  {
   "cell_type": "markdown",
   "metadata": {},
   "source": [
    "## 打一個漂亮叉叉"
   ]
  },
  {
   "cell_type": "code",
   "execution_count": 2,
   "metadata": {},
   "outputs": [],
   "source": [
    "%matplotlib inline\n",
    "import numpy as np"
   ]
  },
  {
   "cell_type": "code",
   "execution_count": 10,
   "metadata": {},
   "outputs": [
    {
     "name": "stdout",
     "output_type": "stream",
     "text": [
      "5\n",
      "*   *\n",
      " * *\n",
      "  *\n",
      " * *\n",
      "*   *\n"
     ]
    }
   ],
   "source": [
    "n=int(input())\n",
    "a=\"*\"\n",
    "b=\" \"\n",
    "c=1\n",
    "d=0\n",
    "for i in range(0,n//2):\n",
    "    print(b*i+a+b*(n-2*c)+a)\n",
    "    c=c+1\n",
    "print(b*(n//2)+a)\n",
    "for j in range(n//2-1,-1,-1):\n",
    "    print(b*j+a+b*(1+2*d)+a)\n",
    "    d=d+1"
   ]
  }
 ],
 "metadata": {
  "kernelspec": {
   "display_name": "Python 3",
   "language": "python",
   "name": "python3"
  },
  "language_info": {
   "codemirror_mode": {
    "name": "ipython",
    "version": 3
   },
   "file_extension": ".py",
   "mimetype": "text/x-python",
   "name": "python",
   "nbconvert_exporter": "python",
   "pygments_lexer": "ipython3",
   "version": "3.7.3"
  }
 },
 "nbformat": 4,
 "nbformat_minor": 2
}
