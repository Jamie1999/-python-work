{
 "cells": [
  {
   "cell_type": "markdown",
   "metadata": {},
   "source": [
    "## 今天晚餐吃什麼？"
   ]
  },
  {
   "cell_type": "code",
   "execution_count": 1,
   "metadata": {},
   "outputs": [],
   "source": [
    "%matplotlib inline\n",
    "import numpy as np\n",
    "import matplotlib.pyplot as plt\n",
    "import pandas as pd"
   ]
  },
  {
   "cell_type": "code",
   "execution_count": 2,
   "metadata": {},
   "outputs": [],
   "source": [
    "from ipywidgets import interact\n",
    "from ipywidgets import interact_manual"
   ]
  },
  {
   "cell_type": "code",
   "execution_count": 57,
   "metadata": {},
   "outputs": [
    {
     "data": {
      "application/vnd.jupyter.widget-view+json": {
       "model_id": "5c22bb30c12f4161b3d3ad694abe408f",
       "version_major": 2,
       "version_minor": 0
      },
      "text/plain": [
       "interactive(children=(Text(value='抽今天晚餐、今日甜點', description='x'), Button(description='Run Interact', style=Butt…"
      ]
     },
     "metadata": {},
     "output_type": "display_data"
    },
    {
     "data": {
      "text/plain": [
       "<function __main__.f(x)>"
      ]
     },
     "execution_count": 57,
     "metadata": {},
     "output_type": "execute_result"
    }
   ],
   "source": [
    "d=[\"炒麵\",\"泡麵\",\"炒飯\",\"牛肉麵\",\"燴飯\"]\n",
    "r=[\"香蕉\",\"蘋果\",\"西瓜\",\"牛奶\",\"餅乾\",\"蛋糕\",\"布丁\"]\n",
    "def f(x):\n",
    "    x=np.random.choice(d)\n",
    "    print(\"今天晚餐吃:{}\".format(x))\n",
    "    y=np.random.choice(r)\n",
    "    print(\"今日甜點:{}\".format(y))\n",
    "interact_manual(f,x=\"抽今天晚餐、今日甜點\")"
   ]
  },
  {
   "cell_type": "markdown",
   "metadata": {},
   "source": [
    "## 星空"
   ]
  },
  {
   "cell_type": "code",
   "execution_count": 58,
   "metadata": {},
   "outputs": [],
   "source": [
    "def draw(n):\n",
    "    x=np.random.rand(1,100)\n",
    "    y=0.5*np.sin(n*x*2*np.pi)+0.5\n",
    "    plt.scatter(x,y,s=10,c=\"r\")\n",
    "    plt.plot(x,y)\n",
    "    plt.show()"
   ]
  },
  {
   "cell_type": "code",
   "execution_count": 56,
   "metadata": {},
   "outputs": [
    {
     "data": {
      "application/vnd.jupyter.widget-view+json": {
       "model_id": "1347594ffa7240c5863e2aba649c1c97",
       "version_major": 2,
       "version_minor": 0
      },
      "text/plain": [
       "interactive(children=(FloatSlider(value=100.5, description='n', max=200.0, min=1.0), Button(description='Run I…"
      ]
     },
     "metadata": {},
     "output_type": "display_data"
    },
    {
     "data": {
      "text/plain": [
       "<function __main__.draw(n)>"
      ]
     },
     "execution_count": 56,
     "metadata": {},
     "output_type": "execute_result"
    }
   ],
   "source": [
    "interact_manual(draw,n=(1.,200.))"
   ]
  },
  {
   "cell_type": "markdown",
   "metadata": {},
   "source": [
    "## 猜數字"
   ]
  },
  {
   "cell_type": "code",
   "execution_count": 72,
   "metadata": {},
   "outputs": [
    {
     "name": "stdout",
     "output_type": "stream",
     "text": [
      "大家來猜數字吧！\n",
      "請猜1~100任一數字：34\n",
      "higher\n",
      "請猜1~100任一數字：56\n",
      "lower\n",
      "請猜1~100任一數字：45\n",
      "higher\n",
      "請猜1~100任一數字：48\n",
      "恭喜你猜對呦！\n"
     ]
    }
   ],
   "source": [
    "print(\"大家來猜數字吧！\")\n",
    "a=np.random.randint(1,101)\n",
    "x=\"x\"\n",
    "while a!=0:\n",
    "    b=int(input(\"請猜1~100任一數字：\"))\n",
    "    if a>b:\n",
    "        print(\"higher\")\n",
    "    if a<b:\n",
    "        print(\"lower\")\n",
    "    if a==b:\n",
    "        print(\"恭喜你猜對呦！\")\n",
    "        break"
   ]
  }
 ],
 "metadata": {
  "kernelspec": {
   "display_name": "Python 3",
   "language": "python",
   "name": "python3"
  },
  "language_info": {
   "codemirror_mode": {
    "name": "ipython",
    "version": 3
   },
   "file_extension": ".py",
   "mimetype": "text/x-python",
   "name": "python",
   "nbconvert_exporter": "python",
   "pygments_lexer": "ipython3",
   "version": "3.7.3"
  }
 },
 "nbformat": 4,
 "nbformat_minor": 2
}
