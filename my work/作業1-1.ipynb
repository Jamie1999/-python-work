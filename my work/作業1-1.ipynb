{
 "cells": [
  {
   "cell_type": "markdown",
   "metadata": {},
   "source": [
    "## 判斷質數"
   ]
  },
  {
   "cell_type": "code",
   "execution_count": 1,
   "metadata": {},
   "outputs": [
    {
     "name": "stdout",
     "output_type": "stream",
     "text": [
      "Enter a positive number5\n",
      "5 is a prime number.\n"
     ]
    }
   ],
   "source": [
    "prime=True\n",
    "\n",
    "n=int(input(\"Enter a positive number\"))\n",
    "while n<=1:\n",
    "    print(\"Invalid input,retry!\")\n",
    "    n=int(input(\"Enter a positive number\"))\n",
    "for i in range(2,n):\n",
    "    if n%i==0:\n",
    "        prime=False\n",
    "    break\n",
    "if prime:\n",
    "    print(n,\"is a prime number.\")\n",
    "else:\n",
    "    print(n,\"is composite number.\")"
   ]
  }
 ],
 "metadata": {
  "kernelspec": {
   "display_name": "Python 3",
   "language": "python",
   "name": "python3"
  },
  "language_info": {
   "codemirror_mode": {
    "name": "ipython",
    "version": 3
   },
   "file_extension": ".py",
   "mimetype": "text/x-python",
   "name": "python",
   "nbconvert_exporter": "python",
   "pygments_lexer": "ipython3",
   "version": "3.7.3"
  }
 },
 "nbformat": 4,
 "nbformat_minor": 2
}
