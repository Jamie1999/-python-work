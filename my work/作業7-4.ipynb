{
 "cells": [
  {
   "cell_type": "code",
   "execution_count": 1,
   "metadata": {},
   "outputs": [],
   "source": [
    "%matplotlib inline\n",
    "\n",
    "import numpy as np\n",
    "import matplotlib.pyplot as plt\n",
    "import pandas as pd"
   ]
  },
  {
   "cell_type": "markdown",
   "metadata": {},
   "source": [
    "## 跟電腦玩猜數字啦"
   ]
  },
  {
   "cell_type": "code",
   "execution_count": 11,
   "metadata": {},
   "outputs": [
    {
     "name": "stdout",
     "output_type": "stream",
     "text": [
      "輸入1~100數字:34\n",
      "再高一點！\n",
      "輸入數字:56\n",
      "再高一點！\n",
      "輸入數字:77\n",
      "再低一點！\n",
      "輸入數字:66\n",
      "再低一點！\n",
      "輸入數字:60\n",
      "再高一點！\n",
      "輸入數字:63\n",
      "再高一點！\n",
      "輸入數字:65\n",
      "恭喜你答對~\\^0^/\n"
     ]
    }
   ],
   "source": [
    "key=np.random.randint(1,101)\n",
    "message=input(\"輸入1~100數字:\")\n",
    "m=int(message)\n",
    "while (m!=0):\n",
    "    if (m>key):\n",
    "        print(\"再低一點！\")\n",
    "        m=int(input(\"輸入數字:\"))\n",
    "    elif (m<key):\n",
    "        print(\"再高一點！\")\n",
    "        m=int(input(\"輸入數字:\"))\n",
    "    else:\n",
    "        print(\"恭喜你答對~\\^0^/\")\n",
    "        break"
   ]
  },
  {
   "cell_type": "code",
   "execution_count": null,
   "metadata": {},
   "outputs": [],
   "source": []
  }
 ],
 "metadata": {
  "kernelspec": {
   "display_name": "Python 3",
   "language": "python",
   "name": "python3"
  },
  "language_info": {
   "codemirror_mode": {
    "name": "ipython",
    "version": 3
   },
   "file_extension": ".py",
   "mimetype": "text/x-python",
   "name": "python",
   "nbconvert_exporter": "python",
   "pygments_lexer": "ipython3",
   "version": "3.7.3"
  }
 },
 "nbformat": 4,
 "nbformat_minor": 2
}
