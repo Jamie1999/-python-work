{
 "cells": [
  {
   "cell_type": "code",
   "execution_count": 2,
   "metadata": {},
   "outputs": [],
   "source": [
    "%matplotlib inline\n",
    "import numpy as np\n",
    "import matplotlib.pyplot as plt\n",
    "import pandas as pd"
   ]
  },
  {
   "cell_type": "code",
   "execution_count": 4,
   "metadata": {},
   "outputs": [],
   "source": [
    "from numpy.random import randint\n",
    "#以後就不用打np.random.randint"
   ]
  },
  {
   "cell_type": "code",
   "execution_count": 7,
   "metadata": {},
   "outputs": [
    {
     "name": "stdout",
     "output_type": "stream",
     "text": [
      "3,9,5,9,2,6,3,2,2,6,9,2,8,9,9,7,6,2,2,7,1,9,6,6,2,9,8,5,3,2,8,1,4,3,2,1,3,6,7,1,1,8,8,9,7,3,5,7,5,1,"
     ]
    }
   ],
   "source": [
    "for i in range(50):\n",
    "    print(randint(1,10),end=\",\")\n",
    "    #每次結束時都會用逗點隔開\n",
    "    #在1~9範圍內取10數"
   ]
  },
  {
   "cell_type": "code",
   "execution_count": 8,
   "metadata": {},
   "outputs": [],
   "source": [
    "words='''\n",
    "我\n",
    "我的\n",
    "妳\n",
    "妳的\n",
    "心\n",
    "溫柔\n",
    "日子\n",
    "雨\n",
    "風\n",
    "天空\n",
    "雲\n",
    "等待\n",
    "哭泣\n",
    "戀愛\n",
    "相遇\n",
    "分離\n",
    "忘記\n",
    "心醉\n",
    "驀然\n",
    "吹過\n",
    "思念\n",
    "靈魂\n",
    "停止'''\n",
    "#三個引號是可以使這些字分行"
   ]
  },
  {
   "cell_type": "code",
   "execution_count": 11,
   "metadata": {},
   "outputs": [
    {
     "data": {
      "text/plain": [
       "['',\n",
       " '我',\n",
       " '我的',\n",
       " '妳',\n",
       " '妳的',\n",
       " '心',\n",
       " '溫柔',\n",
       " '日子',\n",
       " '雨',\n",
       " '風',\n",
       " '天空',\n",
       " '雲',\n",
       " '等待',\n",
       " '哭泣',\n",
       " '戀愛',\n",
       " '相遇',\n",
       " '分離',\n",
       " '忘記',\n",
       " '心醉',\n",
       " '驀然',\n",
       " '吹過',\n",
       " '思念',\n",
       " '靈魂',\n",
       " '停止']"
      ]
     },
     "execution_count": 11,
     "metadata": {},
     "output_type": "execute_result"
    }
   ],
   "source": [
    "words.split('\\n')"
   ]
  },
  {
   "cell_type": "code",
   "execution_count": 12,
   "metadata": {},
   "outputs": [
    {
     "data": {
      "text/plain": [
       "'\\n我\\n我的\\n妳\\n妳的\\n心\\n溫柔\\n日子\\n雨\\n風\\n天空\\n雲\\n等待\\n哭泣\\n戀愛\\n相遇\\n分離\\n忘記\\n心醉\\n驀然\\n吹過\\n思念\\n靈魂\\n停止'"
      ]
     },
     "execution_count": 12,
     "metadata": {},
     "output_type": "execute_result"
    }
   ],
   "source": [
    "words"
   ]
  },
  {
   "cell_type": "code",
   "execution_count": 14,
   "metadata": {},
   "outputs": [],
   "source": [
    "phrase=words.split('\\n')"
   ]
  },
  {
   "cell_type": "code",
   "execution_count": 21,
   "metadata": {},
   "outputs": [],
   "source": [
    "from numpy.random import choice"
   ]
  },
  {
   "cell_type": "code",
   "execution_count": 29,
   "metadata": {},
   "outputs": [
    {
     "name": "stdout",
     "output_type": "stream",
     "text": [
      "['妳' '' '雨' '心' '妳的' '我' '戀愛']\n",
      "['吹過' '思念' '心' '靈魂' '吹過']\n",
      "['妳的' '忘記' '停止' '風' '停止']\n"
     ]
    }
   ],
   "source": [
    "for i in range(randint(2,5)):\n",
    "    print(choice(phrase,randint(2,10)))\n",
    "    #先利用i去選擇要多少單詞\n",
    "    #在從phrase中挑出隨機詞句"
   ]
  },
  {
   "cell_type": "code",
   "execution_count": 32,
   "metadata": {},
   "outputs": [
    {
     "name": "stdout",
     "output_type": "stream",
     "text": [
      "*\n",
      "*\n",
      "*\n"
     ]
    }
   ],
   "source": [
    "I=randint(3,6)\n",
    "\n",
    "for i in range(I):\n",
    "    print(\"*\")"
   ]
  },
  {
   "cell_type": "code",
   "execution_count": 33,
   "metadata": {},
   "outputs": [],
   "source": [
    "ll=randint(5,8)\n",
    "\n",
    "egg=choice(phrase,ll)"
   ]
  },
  {
   "cell_type": "code",
   "execution_count": 34,
   "metadata": {},
   "outputs": [
    {
     "data": {
      "text/plain": [
       "array(['溫柔', '日子', '雨', '忘記', '妳的'], dtype='<U2')"
      ]
     },
     "execution_count": 34,
     "metadata": {},
     "output_type": "execute_result"
    }
   ],
   "source": [
    "egg"
   ]
  },
  {
   "cell_type": "code",
   "execution_count": 37,
   "metadata": {},
   "outputs": [
    {
     "data": {
      "text/plain": [
       "'溫柔 日子 雨 忘記 妳的'"
      ]
     },
     "execution_count": 37,
     "metadata": {},
     "output_type": "execute_result"
    }
   ],
   "source": [
    "' '.join(egg)\n",
    "#用空白隔開"
   ]
  },
  {
   "cell_type": "code",
   "execution_count": 42,
   "metadata": {},
   "outputs": [
    {
     "name": "stdout",
     "output_type": "stream",
     "text": [
      "我的  日子 雲 風\n",
      "心 風 我的 靈魂 哭泣 思念 吹過\n",
      "吹過 停止  相遇 分離 我\n",
      "戀愛 我的 相遇 忘記 妳的 驀然 風\n",
      "天空 我 吹過 停止 分離\n"
     ]
    }
   ],
   "source": [
    "n=randint(3,6)#行數\n",
    "\n",
    "for i in range(n):\n",
    "    k=randint(5,8)#字數\n",
    "    egg=choice(phrase,k)#從phrase中篩選\n",
    "    ham=' '.join(egg)#用空白隔開\n",
    "    print(ham)"
   ]
  },
  {
   "cell_type": "code",
   "execution_count": 47,
   "metadata": {},
   "outputs": [
    {
     "name": "stdout",
     "output_type": "stream",
     "text": [
      "The following commands were written to file `poem.py`:\n",
      "get_ipython().run_line_magic('matplotlib', 'inline')\n",
      "import numpy as np\n",
      "import matplotlib.pyplot as plt\n",
      "import pandas as pd\n",
      "from numpy.random import randint\n",
      "#以後就不用打np.random.randint\n",
      "words='''\n",
      "我\n",
      "我的\n",
      "妳\n",
      "妳的\n",
      "心\n",
      "溫柔\n",
      "日子\n",
      "雨\n",
      "風\n",
      "天空\n",
      "雲\n",
      "等待\n",
      "哭泣\n",
      "戀愛\n",
      "相遇\n",
      "分離\n",
      "忘記\n",
      "心醉\n",
      "驀然\n",
      "吹過\n",
      "思念\n",
      "靈魂\n",
      "停止'''\n",
      "#三個引號是可以使這些字分行\n",
      "from numpy.random import choice\n",
      "n=randint(3,6)#行數\n",
      "\n",
      "for i in range(n):\n",
      "    k=randint(5,8)#字數\n",
      "    egg=choice(phrase,k)#從phrase中篩選\n",
      "    ham=' '.join(egg)#用空白隔開\n",
      "    print(ham)\n"
     ]
    }
   ],
   "source": [
    "%save \"poem.py\" 2 4 8 21 42"
   ]
  },
  {
   "cell_type": "code",
   "execution_count": null,
   "metadata": {},
   "outputs": [],
   "source": []
  }
 ],
 "metadata": {
  "kernelspec": {
   "display_name": "Python 3",
   "language": "python",
   "name": "python3"
  },
  "language_info": {
   "codemirror_mode": {
    "name": "ipython",
    "version": 3
   },
   "file_extension": ".py",
   "mimetype": "text/x-python",
   "name": "python",
   "nbconvert_exporter": "python",
   "pygments_lexer": "ipython3",
   "version": "3.7.3"
  }
 },
 "nbformat": 4,
 "nbformat_minor": 2
}
