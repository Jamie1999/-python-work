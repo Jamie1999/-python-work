{
 "cells": [
  {
   "cell_type": "markdown",
   "metadata": {},
   "source": [
    "## 第一題\n",
    "### 有A,B,C三個班級，每班皆有10個學生，期中考結束後，老師希望計算各班級每位學生的加權平均成績。\n",
    "### 請隨機產生3個班級的成績單,每班10人,共五科,權重為weights=[0.25,0.25,0.25,0.15,0.10]。\n",
    "### 請算出班級加權平均成績，並以一個array輸出。"
   ]
  },
  {
   "cell_type": "code",
   "execution_count": 14,
   "metadata": {},
   "outputs": [],
   "source": [
    "%matplotlib inline\n",
    "import numpy as np\n",
    "import matplotlib.pyplot as plt\n",
    "import pandas as pd"
   ]
  },
  {
   "cell_type": "code",
   "execution_count": 31,
   "metadata": {},
   "outputs": [],
   "source": [
    "gradeA =np.array(np.random.randint(0,100,[10,5]))\n",
    "gradeB =np.array(np.random.randint(0,100,[10,5]))\n",
    "gradeC =np.array(np.random.randint(0,100,[10,5]))"
   ]
  },
  {
   "cell_type": "code",
   "execution_count": 32,
   "metadata": {},
   "outputs": [
    {
     "name": "stdout",
     "output_type": "stream",
     "text": [
      "[[27 92 53 27  3]\n",
      " [ 1 51 67 72 18]\n",
      " [50 59 62 73 74]\n",
      " [34 43 58 64 82]\n",
      " [ 3 29  2 53 66]\n",
      " [40 42 82 65 22]\n",
      " [97 70 36 30 55]\n",
      " [13 44 41 79  8]\n",
      " [50 72 70 87 44]\n",
      " [45 73 93 67  9]]\n",
      "[[17 28 64 36 51]\n",
      " [ 7 24 42 11 51]\n",
      " [60 13 95 20 34]\n",
      " [35 61 67 56 93]\n",
      " [68 19 11  6 35]\n",
      " [40 50 81 68 54]\n",
      " [89 17 38 72 50]\n",
      " [83 45 70 95 48]\n",
      " [82 86 71 33  7]\n",
      " [ 4  4 85 54 49]]\n",
      "[[58 36 86 52 17]\n",
      " [39 91 49  4 48]\n",
      " [44 45 92 58 61]\n",
      " [57 76 74 78 36]\n",
      " [91 92 65 14 25]\n",
      " [43 84 39 19 55]\n",
      " [65 28 25 23 23]\n",
      " [78 34 86 38 42]\n",
      " [97 58 24 49 96]\n",
      " [80  8 15 70 16]]\n"
     ]
    }
   ],
   "source": [
    "print(gradeA)\n",
    "print(gradeB)\n",
    "print(gradeC)"
   ]
  },
  {
   "cell_type": "code",
   "execution_count": 33,
   "metadata": {},
   "outputs": [],
   "source": [
    "weight=np.array([0.25,0.25,0.25,0.15,0.10])\n",
    "A=np.dot(gradeA,weight)\n",
    "B=np.dot(gradeB,weight)\n",
    "C=np.dot(gradeC,weight)"
   ]
  },
  {
   "cell_type": "code",
   "execution_count": 35,
   "metadata": {},
   "outputs": [
    {
     "name": "stdout",
     "output_type": "stream",
     "text": [
      "[47.35 42.35 61.1  51.55 23.05 52.95 60.75 37.15 65.45 63.7 ]\n",
      "[37.75 25.   48.4  58.45 28.9  58.35 51.8  68.55 65.4  36.25]\n",
      "[54.5  50.15 60.05 67.05 66.6  49.85 35.25 59.4  61.7  37.85]\n"
     ]
    }
   ],
   "source": [
    "print(A)\n",
    "print(B)\n",
    "print(C)"
   ]
  },
  {
   "cell_type": "code",
   "execution_count": null,
   "metadata": {},
   "outputs": [],
   "source": []
  }
 ],
 "metadata": {
  "kernelspec": {
   "display_name": "Python 3",
   "language": "python",
   "name": "python3"
  },
  "language_info": {
   "codemirror_mode": {
    "name": "ipython",
    "version": 3
   },
   "file_extension": ".py",
   "mimetype": "text/x-python",
   "name": "python",
   "nbconvert_exporter": "python",
   "pygments_lexer": "ipython3",
   "version": "3.7.3"
  }
 },
 "nbformat": 4,
 "nbformat_minor": 2
}
