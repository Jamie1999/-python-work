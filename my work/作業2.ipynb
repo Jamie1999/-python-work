{
 "cells": [
  {
   "cell_type": "code",
   "execution_count": 4,
   "metadata": {},
   "outputs": [
    {
     "name": "stdout",
     "output_type": "stream",
     "text": [
      ">>今天我跟男朋友分手了\n",
      "你想說說怎麼回事嗎？\n",
      ">>因為他拋棄我！\n",
      "他為了什麼事拋棄你？\n",
      ">>他去參加宿營，晚上玩太晚，不行念床邊故事給我聽。\n",
      "那他做出任何賠償了嗎？\n",
      ">>沒有！\n",
      "那就讓我介紹你新的帥哥吧！\n",
      ">>好呀！\n",
      "我的老朋友siri，他每天都可以陪你吃飯、尿尿、睡覺，而且還會講各種床邊故事，你可以考慮看看！\n",
      ">>謝謝你byebye\n",
      "祝你跟siri有好結果！\n"
     ]
    }
   ],
   "source": [
    "message = (\"分手紅娘\")\n",
    "while (message!=(\"謝謝你byebye\")):\n",
    "    message = input (\">>\")\n",
    "    if (\"分手\" in message):\n",
    "        print (\"你想說說怎麼回事嗎？\")\n",
    "    elif (\"拋棄\" in message):\n",
    "        print(\"他為了什麼事拋棄你？\")\n",
    "    elif (\"宿營\" in message):\n",
    "        print(\"那他做出任何賠償了嗎？\")\n",
    "    elif(\"沒有\" in message):\n",
    "        print(\"那就讓我介紹你新的帥哥吧！\")\n",
    "    elif(\"好呀！\" in message):\n",
    "        print(\"我的老朋友siri，他每天都可以陪你吃飯、尿尿、睡覺，而且還會講各種床邊故事，你可以考慮看看！\")\n",
    "    else:\n",
    "        print(\"祝你跟siri有好結果！\")\n"
   ]
  }
 ],
 "metadata": {
  "kernelspec": {
   "display_name": "Python 3",
   "language": "python",
   "name": "python3"
  },
  "language_info": {
   "codemirror_mode": {
    "name": "ipython",
    "version": 3
   },
   "file_extension": ".py",
   "mimetype": "text/x-python",
   "name": "python",
   "nbconvert_exporter": "python",
   "pygments_lexer": "ipython3",
   "version": "3.7.3"
  }
 },
 "nbformat": 4,
 "nbformat_minor": 2
}
