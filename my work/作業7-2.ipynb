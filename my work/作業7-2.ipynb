{
 "cells": [
  {
   "cell_type": "code",
   "execution_count": 3,
   "metadata": {},
   "outputs": [],
   "source": [
    "%matplotlib inline\n",
    "\n",
    "import numpy as np\n",
    "import pandas as pd\n",
    "import matplotlib.pyplot as plt"
   ]
  },
  {
   "cell_type": "markdown",
   "metadata": {},
   "source": [
    "## 幫你算你在銀行存的錢變多少"
   ]
  },
  {
   "cell_type": "code",
   "execution_count": 8,
   "metadata": {},
   "outputs": [
    {
     "name": "stdout",
     "output_type": "stream",
     "text": [
      "你的本金:10000\n",
      "利率:0.2\n",
      "期數:18\n",
      "年數:2\n",
      "所有金額: 10040.08\n"
     ]
    }
   ],
   "source": [
    "price=float(input(\"你的本金:\"))\n",
    "rate=float(input(\"利率:\"))\n",
    "period=float(input(\"期數:\"))\n",
    "year=float(input(\"年數:\"))\n",
    "x1=period*year\n",
    "x2=rate/(period*100)\n",
    "x3=(1+y)**x\n",
    "f=(\"%.2f\"%(price*z))\n",
    "print(\"所有金額:\",f)"
   ]
  }
 ],
 "metadata": {
  "kernelspec": {
   "display_name": "Python 3",
   "language": "python",
   "name": "python3"
  },
  "language_info": {
   "codemirror_mode": {
    "name": "ipython",
    "version": 3
   },
   "file_extension": ".py",
   "mimetype": "text/x-python",
   "name": "python",
   "nbconvert_exporter": "python",
   "pygments_lexer": "ipython3",
   "version": "3.7.3"
  }
 },
 "nbformat": 4,
 "nbformat_minor": 2
}
