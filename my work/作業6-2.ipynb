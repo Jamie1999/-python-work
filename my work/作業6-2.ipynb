{
 "cells": [
  {
   "cell_type": "markdown",
   "metadata": {},
   "source": [
    "## BMI計算器"
   ]
  },
  {
   "cell_type": "code",
   "execution_count": 2,
   "metadata": {},
   "outputs": [],
   "source": [
    "%matplotlib inline\n",
    "import numpy as np\n",
    "import matplotlib.pyplot as plt\n",
    "import pandas as pd"
   ]
  },
  {
   "cell_type": "code",
   "execution_count": 5,
   "metadata": {},
   "outputs": [
    {
     "name": "stdout",
     "output_type": "stream",
     "text": [
      "輸入體重(kg):45\n",
      "輸入身高(cm):155\n",
      "BMI=18.73\n",
      "你的身材適中！\n"
     ]
    }
   ],
   "source": [
    "spam=input(\"輸入體重(kg):\")\n",
    "spam=float(spam)\n",
    "ham=input(\"輸入身高(cm):\")\n",
    "ham=float(ham)\n",
    "BMI=spam/((ham/100)**2)\n",
    "if (BMI<18.5):\n",
    "    print(\"BMI=%.2f\"%(BMI))\n",
    "    print(\"你太輕囉！\")\n",
    "elif (18.5<BMI<25.0):\n",
    "    print(\"BMI=%.2f\"%(BMI))\n",
    "    print(\"你的身材適中！\")\n",
    "else:\n",
    "    print(\"BMI=%.2f\"%(BMI))\n",
    "    print(\"有點太胖\")"
   ]
  }
 ],
 "metadata": {
  "kernelspec": {
   "display_name": "Python 3",
   "language": "python",
   "name": "python3"
  },
  "language_info": {
   "codemirror_mode": {
    "name": "ipython",
    "version": 3
   },
   "file_extension": ".py",
   "mimetype": "text/x-python",
   "name": "python",
   "nbconvert_exporter": "python",
   "pygments_lexer": "ipython3",
   "version": "3.7.3"
  }
 },
 "nbformat": 4,
 "nbformat_minor": 2
}
